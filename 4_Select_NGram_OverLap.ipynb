{
 "cells": [
  {
   "cell_type": "code",
   "execution_count": 1,
   "id": "d87813fe-a70b-4e42-acaa-102ab7814d8b",
   "metadata": {},
   "outputs": [
    {
     "name": "stderr",
     "output_type": "stream",
     "text": [
      "C:\\Users\\MSI 1\\.conda\\envs\\oaivenv\\Lib\\site-packages\\tqdm\\auto.py:21: TqdmWarning: IProgress not found. Please update jupyter and ipywidgets. See https://ipywidgets.readthedocs.io/en/stable/user_install.html\n",
      "  from .autonotebook import tqdm as notebook_tqdm\n"
     ]
    }
   ],
   "source": [
    "from dotenv import load_dotenv,find_dotenv\n",
    "from langchain_core.prompts import PromptTemplate,ChatPromptTemplate\n",
    "from langchain_core.messages import SystemMessage,HumanMessage,AIMessage\n",
    "from langchain_google_genai import ChatGoogleGenerativeAI\n",
    "from langchain_openai import ChatOpenAI\n",
    "from langchain.prompts import SystemMessagePromptTemplate,HumanMessagePromptTemplate\n",
    "\n",
    "from langchain_community.example_selectors import NGramOverlapExampleSelector\n",
    "from langchain.prompts import PromptTemplate,FewShotPromptTemplate\n",
    "from langchain_core.runnables import RunnablePassthrough\n",
    "from langchain_core.output_parsers import StrOutputParser"
   ]
  },
  {
   "cell_type": "code",
   "execution_count": 2,
   "id": "9b78cd93-3c5c-420c-8173-3235f8ad1905",
   "metadata": {},
   "outputs": [
    {
     "data": {
      "text/plain": [
       "True"
      ]
     },
     "execution_count": 2,
     "metadata": {},
     "output_type": "execute_result"
    }
   ],
   "source": [
    "load_dotenv(dotenv_path=find_dotenv(filename=\"D:\\LLM Courses\\Master Langchain Udemy\\.env\"))"
   ]
  },
  {
   "cell_type": "code",
   "execution_count": 3,
   "id": "b5719e12-b204-4c26-8cc3-06e5bc1c38e3",
   "metadata": {},
   "outputs": [],
   "source": [
    "llmGemini=ChatGoogleGenerativeAI(model=\"gemini-1.5-flash\")\n",
    "llmOpenAI=ChatOpenAI(model=\"gpt-3.5-turbo\")"
   ]
  },
  {
   "cell_type": "code",
   "execution_count": 5,
   "id": "be7563a4-dd7d-40ff-b924-343eced8a9ad",
   "metadata": {},
   "outputs": [],
   "source": [
    "examples=[\n",
    "    {\"input\":\"See Spot Run.\",\"output\":\"Ver correr a Spot.\"},\n",
    "    {\"input\": \"My dog barks.\", \"output\": \"Mi perro ladra.\"},\n",
    "    {\"input\": \"Spot can run.\", \"output\": \"Spot puede correr.\"}   \n",
    "]"
   ]
  },
  {
   "cell_type": "code",
   "execution_count": 7,
   "id": "7a6d5aee-30c4-493d-81c4-4e713e26132e",
   "metadata": {},
   "outputs": [],
   "source": [
    "examplePrompt=PromptTemplate(\n",
    "    template=\"Input:{input}\\n Output:{output}\",\n",
    "    input_variables=[\"input\",\"output\"]\n",
    ")"
   ]
  },
  {
   "cell_type": "code",
   "execution_count": 9,
   "id": "99ccda7f-ee25-4fbb-9857-50900f86ec30",
   "metadata": {},
   "outputs": [],
   "source": [
    "exampleSelector=NGramOverlapExampleSelector(\n",
    "    examples=examples,\n",
    "    example_prompt=examplePrompt,\n",
    "    # For negative threshold:\n",
    "    # Selector sorts examples by ngram overlap score, and excludes none.\n",
    "    # For threshold greater than 1.0:\n",
    "    # Selector excludes all examples, and returns an empty list.\n",
    "    # For threshold equal to 0.0:\n",
    "    # Selector sorts examples by ngram overlap score,\n",
    "    # and excludes those with no ngram overlap with input.\n",
    "    threshold=-1\n",
    ")\n",
    "    "
   ]
  },
  {
   "cell_type": "code",
   "execution_count": 11,
   "id": "abaaa7e2-2ddd-4ac0-aca8-0f3c3d218dda",
   "metadata": {},
   "outputs": [],
   "source": [
    "dynamicPrompt=FewShotPromptTemplate(\n",
    "    example_prompt=examplePrompt,\n",
    "    example_selector=exampleSelector,\n",
    "    prefix=\"Give the Spanish translation of every input\",\n",
    "    suffix=\"English: {inputword}\\nSpanish: \",\n",
    "    input_variables=[\"inputword\"]\n",
    ")"
   ]
  },
  {
   "cell_type": "code",
   "execution_count": 12,
   "id": "cd395d26-f9c0-4d15-bca6-90908a4fc033",
   "metadata": {},
   "outputs": [],
   "source": [
    "chain=RunnablePassthrough()|dynamicPrompt|llmGemini|StrOutputParser()"
   ]
  },
  {
   "cell_type": "code",
   "execution_count": 15,
   "id": "7a246cef-3ad2-4866-82ec-6948bd01c73f",
   "metadata": {},
   "outputs": [
    {
     "name": "stdout",
     "output_type": "stream",
     "text": [
      "Spanish: Spot puede correr rápido. \n",
      "\n"
     ]
    }
   ],
   "source": [
    "print(chain.invoke(input={\"inputword\":\"Spot can Run Fast\"}))"
   ]
  },
  {
   "cell_type": "code",
   "execution_count": 16,
   "id": "1161ca40-bde7-4f15-b298-f0e4c0481721",
   "metadata": {},
   "outputs": [],
   "source": [
    "exampleSelector.add_example(\n",
    "    example={\"input\": \"Spot plays fetch.\", \"output\": \"Spot juega a buscar.\"}\n",
    "                           )"
   ]
  },
  {
   "cell_type": "code",
   "execution_count": 18,
   "id": "778baf2e-350a-4668-9aa2-9c608d3e0543",
   "metadata": {},
   "outputs": [],
   "source": [
    "exampleSelector.threshold=0.03"
   ]
  },
  {
   "cell_type": "code",
   "execution_count": 20,
   "id": "6417558b-07d9-47e8-8865-625f99651c62",
   "metadata": {},
   "outputs": [
    {
     "name": "stdout",
     "output_type": "stream",
     "text": [
      "Give the Spanish translation of every input\n",
      "\n",
      "Input:Spot can run.\n",
      " Output:Spot puede correr.\n",
      "\n",
      "Input:See Spot Run.\n",
      " Output:Ver correr a Spot.\n",
      "\n",
      "Input:Spot plays fetch.\n",
      " Output:Spot juega a buscar.\n",
      "\n",
      "English: Spot can run fast.\n",
      "Spanish: \n"
     ]
    }
   ],
   "source": [
    "print(dynamicPrompt.format(inputword=\"Spot can run fast.\"))"
   ]
  },
  {
   "cell_type": "code",
   "execution_count": 21,
   "id": "293b8804-64ab-47bf-8d46-18102e59d7c9",
   "metadata": {},
   "outputs": [
    {
     "name": "stdout",
     "output_type": "stream",
     "text": [
      "Spanish: Spot puede correr rápido. \n",
      "\n"
     ]
    }
   ],
   "source": [
    "print(chain.invoke(input={\"inputword\":\"Spot can Run Fast\"}))"
   ]
  },
  {
   "cell_type": "code",
   "execution_count": null,
   "id": "c8b8c8ef-47bb-4608-b1bd-a623cc50924f",
   "metadata": {},
   "outputs": [],
   "source": []
  }
 ],
 "metadata": {
  "kernelspec": {
   "display_name": "Python 3 (ipykernel)",
   "language": "python",
   "name": "python3"
  },
  "language_info": {
   "codemirror_mode": {
    "name": "ipython",
    "version": 3
   },
   "file_extension": ".py",
   "mimetype": "text/x-python",
   "name": "python",
   "nbconvert_exporter": "python",
   "pygments_lexer": "ipython3",
   "version": "3.11.9"
  }
 },
 "nbformat": 4,
 "nbformat_minor": 5
}
