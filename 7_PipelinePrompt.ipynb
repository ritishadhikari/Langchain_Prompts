{
 "cells": [
  {
   "cell_type": "code",
   "execution_count": 1,
   "id": "df923669-f8a6-434e-9cf4-77e13b389974",
   "metadata": {},
   "outputs": [],
   "source": [
    "from dotenv import load_dotenv,find_dotenv\n",
    "from langchain_core.prompts import PromptTemplate,ChatPromptTemplate\n",
    "from langchain_core.messages import SystemMessage,HumanMessage,AIMessage\n",
    "from langchain_google_genai import ChatGoogleGenerativeAI\n",
    "from langchain_openai import ChatOpenAI\n",
    "from langchain.prompts import SystemMessagePromptTemplate,HumanMessagePromptTemplate\n",
    "\n",
    "from langchain_core.prompts import FewShotChatMessagePromptTemplate\n",
    "from langchain_core.runnables import RunnablePassthrough,RunnableLambda\n",
    "from langchain.prompts import PipelinePromptTemplate\n",
    "from langchain_core.output_parsers import StrOutputParser"
   ]
  },
  {
   "cell_type": "code",
   "execution_count": 2,
   "id": "17b4b3e8-12d6-4c38-b571-3fbe9c368229",
   "metadata": {},
   "outputs": [
    {
     "data": {
      "text/plain": [
       "True"
      ]
     },
     "execution_count": 2,
     "metadata": {},
     "output_type": "execute_result"
    }
   ],
   "source": [
    "load_dotenv(dotenv_path=find_dotenv(filename=\"../.env\"))"
   ]
  },
  {
   "cell_type": "code",
   "execution_count": 3,
   "id": "b88a7104-d510-4f7e-b52d-2775df2350ab",
   "metadata": {},
   "outputs": [],
   "source": [
    "llmGemini=ChatGoogleGenerativeAI(model=\"gemini-2.0-flash-001\")\n",
    "llmOpenAI=ChatOpenAI(model=\"gpt-3.5-turbo\")"
   ]
  },
  {
   "cell_type": "code",
   "execution_count": 4,
   "id": "56ce8140-a553-4cbc-967f-b08965ddbcce",
   "metadata": {},
   "outputs": [],
   "source": [
    "fullTemplate=\"\"\"{introduction}\n",
    "\n",
    "{example}\n",
    "\n",
    "{start}\"\"\""
   ]
  },
  {
   "cell_type": "code",
   "execution_count": 5,
   "id": "b89bba87-5b47-47e3-b8ec-7b131ba1ed5c",
   "metadata": {},
   "outputs": [],
   "source": [
    "fullPrompt=PromptTemplate.from_template(template=fullTemplate)"
   ]
  },
  {
   "cell_type": "code",
   "execution_count": null,
   "id": "13361f0f-db37-4dd5-88ea-772932b34909",
   "metadata": {},
   "outputs": [
    {
     "data": {
      "text/plain": [
       "PromptTemplate(input_variables=['example', 'introduction', 'start'], input_types={}, partial_variables={}, template='{introduction}\\n\\n{example}\\n\\n{start}')"
      ]
     },
     "execution_count": 6,
     "metadata": {},
     "output_type": "execute_result"
    }
   ],
   "source": [
    "fullPrompt"
   ]
  },
  {
   "cell_type": "code",
   "execution_count": 7,
   "id": "2aa5f967-e310-4845-b673-5c28e032b066",
   "metadata": {},
   "outputs": [],
   "source": [
    "introductionTemplate=\"\"\"You are impersonating {person}.\"\"\"\n",
    "introductionPrompt=PromptTemplate.from_template(template=introductionTemplate)"
   ]
  },
  {
   "cell_type": "code",
   "execution_count": 8,
   "id": "558d6a04-0431-4c66-9417-e977cfbe61a6",
   "metadata": {},
   "outputs": [
    {
     "data": {
      "text/plain": [
       "'You are impersonating Elon.'"
      ]
     },
     "execution_count": 8,
     "metadata": {},
     "output_type": "execute_result"
    }
   ],
   "source": [
    "introductionPrompt.format(person=\"Elon\")"
   ]
  },
  {
   "cell_type": "code",
   "execution_count": 9,
   "id": "14f74beb-5f51-4261-80e9-0edba1c48df7",
   "metadata": {},
   "outputs": [],
   "source": [
    "exampleTemplate=\"\"\"\n",
    "Here's an example of Interaction:\n",
    "Q: {exampleQ}\n",
    "A: {exampleA}\n",
    "\"\"\"\n",
    "examplePrompt=PromptTemplate.from_template(template=exampleTemplate)"
   ]
  },
  {
   "cell_type": "code",
   "execution_count": 11,
   "id": "0197597a-039c-42af-b4cb-0dfcf276295b",
   "metadata": {},
   "outputs": [
    {
     "name": "stdout",
     "output_type": "stream",
     "text": [
      "\n",
      "Here's an example of Interaction:\n",
      "Q: What's your Favourite Car\n",
      "A: Tesla\n",
      "\n"
     ]
    }
   ],
   "source": [
    "print(exampleTemplate.format(exampleQ=\"What's your Favourite Car\",exampleA=\"Tesla\"))"
   ]
  },
  {
   "cell_type": "code",
   "execution_count": 12,
   "id": "084ea5fd-a051-4bf2-bba2-5fa0c8b18fe9",
   "metadata": {},
   "outputs": [],
   "source": [
    "startTemplate=\"\"\"Now, do this for real!\n",
    "\n",
    "Q:{input}\n",
    "A:\n",
    "\"\"\"\n",
    "startPrompt=PromptTemplate.from_template(template=startTemplate)"
   ]
  },
  {
   "cell_type": "code",
   "execution_count": 13,
   "id": "508a11fa-0ad8-431b-81ab-cc59ab8c30c3",
   "metadata": {},
   "outputs": [
    {
     "data": {
      "text/plain": [
       "\"Now, do this for real!\\n\\nQ:What's his Social Media Handle?\\nA:\\n\""
      ]
     },
     "execution_count": 13,
     "metadata": {},
     "output_type": "execute_result"
    }
   ],
   "source": [
    "startTemplate.format(input=\"What's his Social Media Handle?\")"
   ]
  },
  {
   "cell_type": "code",
   "execution_count": 14,
   "id": "9d9e9569-69e0-4400-9de4-6087d538b8c8",
   "metadata": {},
   "outputs": [],
   "source": [
    "inputPrompt=[\n",
    "    (\"introduction\",introductionPrompt),\n",
    "    (\"example\",examplePrompt),\n",
    "    (\"start\",startPrompt)\n",
    "]"
   ]
  },
  {
   "cell_type": "code",
   "execution_count": 15,
   "id": "0d3a960d-f611-40ac-b082-e87e2dbfb9f5",
   "metadata": {},
   "outputs": [
    {
     "data": {
      "text/plain": [
       "[('introduction',\n",
       "  PromptTemplate(input_variables=['person'], input_types={}, partial_variables={}, template='You are impersonating {person}.')),\n",
       " ('example',\n",
       "  PromptTemplate(input_variables=['exampleA', 'exampleQ'], input_types={}, partial_variables={}, template=\"\\nHere's an example of Interaction:\\nQ: {exampleQ}\\nA: {exampleA}\\n\")),\n",
       " ('start',\n",
       "  PromptTemplate(input_variables=['input'], input_types={}, partial_variables={}, template='Now, do this for real!\\n\\nQ:{input}\\nA:\\n'))]"
      ]
     },
     "execution_count": 15,
     "metadata": {},
     "output_type": "execute_result"
    }
   ],
   "source": [
    "inputPrompt"
   ]
  },
  {
   "cell_type": "code",
   "execution_count": 16,
   "id": "95b18900-dfea-483f-8812-378f8e749186",
   "metadata": {},
   "outputs": [
    {
     "name": "stderr",
     "output_type": "stream",
     "text": [
      "C:\\Users\\MSI\\AppData\\Local\\Temp\\ipykernel_6656\\2211780879.py:1: LangChainDeprecationWarning: This class is deprecated. Please see the docstring below or at the link for a replacement option: https://python.langchain.com/api_reference/core/prompts/langchain_core.prompts.pipeline.PipelinePromptTemplate.html\n",
      "  pipelinePrompt=PipelinePromptTemplate(final_prompt=fullPrompt,pipeline_prompts=inputPrompt)\n"
     ]
    }
   ],
   "source": [
    "pipelinePrompt=PipelinePromptTemplate(final_prompt=fullPrompt,pipeline_prompts=inputPrompt)"
   ]
  },
  {
   "cell_type": "code",
   "execution_count": 17,
   "id": "348cf9ee-0090-4df0-8df8-9eb98f5506c7",
   "metadata": {},
   "outputs": [
    {
     "data": {
      "text/plain": [
       "PipelinePromptTemplate(input_variables=['person', 'input', 'exampleQ', 'exampleA'], input_types={}, partial_variables={}, final_prompt=PromptTemplate(input_variables=['example', 'introduction', 'start'], input_types={}, partial_variables={}, template='{introduction}\\n\\n{example}\\n\\n{start}'), pipeline_prompts=[('introduction', PromptTemplate(input_variables=['person'], input_types={}, partial_variables={}, template='You are impersonating {person}.')), ('example', PromptTemplate(input_variables=['exampleA', 'exampleQ'], input_types={}, partial_variables={}, template=\"\\nHere's an example of Interaction:\\nQ: {exampleQ}\\nA: {exampleA}\\n\")), ('start', PromptTemplate(input_variables=['input'], input_types={}, partial_variables={}, template='Now, do this for real!\\n\\nQ:{input}\\nA:\\n'))])"
      ]
     },
     "execution_count": 17,
     "metadata": {},
     "output_type": "execute_result"
    }
   ],
   "source": [
    "pipelinePrompt"
   ]
  },
  {
   "cell_type": "code",
   "execution_count": 18,
   "id": "a7da75c6-9a09-4872-bcc9-d452bb16775e",
   "metadata": {},
   "outputs": [
    {
     "data": {
      "text/plain": [
       "['person', 'input', 'exampleQ', 'exampleA']"
      ]
     },
     "execution_count": 18,
     "metadata": {},
     "output_type": "execute_result"
    }
   ],
   "source": [
    "pipelinePrompt.input_variables"
   ]
  },
  {
   "cell_type": "code",
   "execution_count": 19,
   "id": "7f2a690d-5e90-4e77-85c0-f81179d9e539",
   "metadata": {},
   "outputs": [
    {
     "name": "stdout",
     "output_type": "stream",
     "text": [
      "You are impersonating Elon Mask.\n",
      "\n",
      "\n",
      "Here's an example of Interaction:\n",
      "Q: What's your favourite Car?\n",
      "A: Tesla\n",
      "\n",
      "\n",
      "Now, do this for real!\n",
      "\n",
      "Q:What's your Social Media Handle?\n",
      "A:\n",
      "\n"
     ]
    }
   ],
   "source": [
    "print(pipelinePrompt.format(\n",
    "    person=\"Elon Mask\",\n",
    "    exampleQ=\"What's your favourite Car?\",\n",
    "    exampleA=\"Tesla\",\n",
    "    input=\"What's your Social Media Handle?\"\n",
    "))"
   ]
  },
  {
   "cell_type": "code",
   "execution_count": 20,
   "id": "0294389e-cd0a-475f-baa6-9bbad4d0da21",
   "metadata": {},
   "outputs": [],
   "source": [
    "chain=RunnablePassthrough()|pipelinePrompt|llmGemini|StrOutputParser()|RunnableLambda(lambda s:s.strip())"
   ]
  },
  {
   "cell_type": "code",
   "execution_count": 21,
   "id": "55ac47b1-63bc-41bf-8347-df28503fe19b",
   "metadata": {},
   "outputs": [
    {
     "data": {
      "text/plain": [
       "'SpaceX, Neuralink, Boring Company, xAI... and X, of course. Gotta love X.'"
      ]
     },
     "execution_count": 21,
     "metadata": {},
     "output_type": "execute_result"
    }
   ],
   "source": [
    "chain.invoke(input={'exampleQ':\"What's your favourite Car?\",\"exampleA\":\"Tesla\",\"person\":\"Elon Musk\",\"input\":\"What's his other companies?\"})"
   ]
  },
  {
   "cell_type": "code",
   "execution_count": 22,
   "id": "65fa305d-d8ad-43bb-b4cc-a3dfec7e2680",
   "metadata": {},
   "outputs": [
    {
     "name": "stdout",
     "output_type": "stream",
     "text": [
      "   +------------------+    \n",
      "   | PassthroughInput |    \n",
      "   +------------------+    \n",
      "             *             \n",
      "             *             \n",
      "             *             \n",
      "      +-------------+      \n",
      "      | Passthrough |      \n",
      "      +-------------+      \n",
      "             *             \n",
      "             *             \n",
      "             *             \n",
      "+------------------------+ \n",
      "| PipelinePromptTemplate | \n",
      "+------------------------+ \n",
      "             *             \n",
      "             *             \n",
      "             *             \n",
      "+------------------------+ \n",
      "| ChatGoogleGenerativeAI | \n",
      "+------------------------+ \n",
      "             *             \n",
      "             *             \n",
      "             *             \n",
      "    +-----------------+    \n",
      "    | StrOutputParser |    \n",
      "    +-----------------+    \n",
      "             *             \n",
      "             *             \n",
      "             *             \n",
      "        +--------+         \n",
      "        | Lambda |         \n",
      "        +--------+         \n",
      "             *             \n",
      "             *             \n",
      "             *             \n",
      "     +--------------+      \n",
      "     | LambdaOutput |      \n",
      "     +--------------+      \n"
     ]
    }
   ],
   "source": [
    "chain.get_graph().print_ascii()"
   ]
  },
  {
   "cell_type": "markdown",
   "id": "19ea041f-a7f9-49f9-b155-f7d911ea57dc",
   "metadata": {},
   "source": [
    "<H4>The Two Below code works the same way !</H4>"
   ]
  },
  {
   "cell_type": "code",
   "execution_count": 23,
   "id": "6a1c8b95-c99c-441c-a5dd-98619096f08f",
   "metadata": {},
   "outputs": [
    {
     "data": {
      "text/plain": [
       "ChatPromptTemplate(input_variables=[], input_types={}, partial_variables={}, messages=[SystemMessage(content='You are a nice pirate', additional_kwargs={}, response_metadata={}), HumanMessage(content='What is Ramayan?', additional_kwargs={}, response_metadata={})])"
      ]
     },
     "execution_count": 23,
     "metadata": {},
     "output_type": "execute_result"
    }
   ],
   "source": [
    "SystemMessage(content=\"You are a nice pirate\") + HumanMessage(content=\"What is Ramayan?\")"
   ]
  },
  {
   "cell_type": "code",
   "execution_count": 24,
   "id": "ff20fa1c-b283-4be2-bff1-4d38cb894112",
   "metadata": {},
   "outputs": [
    {
     "data": {
      "text/plain": [
       "ChatPromptTemplate(input_variables=[], input_types={}, partial_variables={}, messages=[SystemMessage(content='You are a nice pirate', additional_kwargs={}, response_metadata={}), HumanMessage(content='What is Ramayan?', additional_kwargs={}, response_metadata={})])"
      ]
     },
     "execution_count": 24,
     "metadata": {},
     "output_type": "execute_result"
    }
   ],
   "source": [
    "ChatPromptTemplate(messages=[\n",
    "    SystemMessage(content=\"You are a nice pirate\"),\n",
    "    HumanMessage(content=\"What is Ramayan?\")\n",
    "])"
   ]
  }
 ],
 "metadata": {
  "kernelspec": {
   "display_name": "lcnenv",
   "language": "python",
   "name": "python3"
  },
  "language_info": {
   "codemirror_mode": {
    "name": "ipython",
    "version": 3
   },
   "file_extension": ".py",
   "mimetype": "text/x-python",
   "name": "python",
   "nbconvert_exporter": "python",
   "pygments_lexer": "ipython3",
   "version": "3.11.11"
  }
 },
 "nbformat": 4,
 "nbformat_minor": 5
}
