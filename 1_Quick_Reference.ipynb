{
 "cells": [
  {
   "cell_type": "code",
   "execution_count": 1,
   "id": "4353462f-99df-42d7-a399-5fe0ab402e65",
   "metadata": {},
   "outputs": [],
   "source": [
    "from dotenv import load_dotenv,find_dotenv\n",
    "from langchain_core.prompts import PromptTemplate,ChatPromptTemplate,MessagesPlaceholder\n",
    "from langchain_core.messages import SystemMessage,HumanMessage,AIMessage\n",
    "from langchain_google_genai import ChatGoogleGenerativeAI\n",
    "from langchain_openai import ChatOpenAI\n",
    "from langchain_core.output_parsers import StrOutputParser\n",
    "from langchain.prompts import SystemMessagePromptTemplate,HumanMessagePromptTemplate"
   ]
  },
  {
   "cell_type": "code",
   "execution_count": 17,
   "id": "77d8bebd-f52d-49b6-a2f5-ef4bf3a750b6",
   "metadata": {},
   "outputs": [
    {
     "data": {
      "text/plain": [
       "True"
      ]
     },
     "execution_count": 17,
     "metadata": {},
     "output_type": "execute_result"
    }
   ],
   "source": [
    "load_dotenv(dotenv_path=find_dotenv(filename=\"../.env\"))"
   ]
  },
  {
   "cell_type": "code",
   "execution_count": 18,
   "id": "b2e1ef31-11d0-4a25-a20a-607d3709a46f",
   "metadata": {},
   "outputs": [],
   "source": [
    "llmGemini=ChatGoogleGenerativeAI(model=\"gemini-2.0-flash-001\")\n",
    "llmOpenAI=ChatOpenAI(model=\"gpt-3.5-turbo\")"
   ]
  },
  {
   "cell_type": "code",
   "execution_count": 19,
   "id": "30ac3597-87b4-44ba-844b-c46ea62120de",
   "metadata": {},
   "outputs": [],
   "source": [
    "promptTemplate=PromptTemplate.from_template(template=\"Tell me a {adjective} joke about {content}\")"
   ]
  },
  {
   "cell_type": "code",
   "execution_count": 20,
   "id": "2a3a228d-fc5f-4c55-a4f3-dee5fe1f3297",
   "metadata": {
    "scrolled": true
   },
   "outputs": [
    {
     "data": {
      "text/plain": [
       "'Tell me a funny joke about chickens'"
      ]
     },
     "execution_count": 20,
     "metadata": {},
     "output_type": "execute_result"
    }
   ],
   "source": [
    "promptTemplate.format(adjective=\"funny\",content=\"chickens\")"
   ]
  },
  {
   "cell_type": "markdown",
   "id": "2cdb39f6-ff1f-4fcb-90c4-ffaa457e199d",
   "metadata": {},
   "source": [
    "<h3>Without Variables</h3>"
   ]
  },
  {
   "cell_type": "code",
   "execution_count": 21,
   "id": "3c666023-d80e-42d9-8a2f-aafdd3689bc9",
   "metadata": {},
   "outputs": [],
   "source": [
    "promptTemplate=PromptTemplate.from_template(template=\"Tell me a joke\")"
   ]
  },
  {
   "cell_type": "code",
   "execution_count": 22,
   "id": "68108fa9-4bea-4318-82ae-ea5b5e21855a",
   "metadata": {},
   "outputs": [
    {
     "data": {
      "text/plain": [
       "'Tell me a joke'"
      ]
     },
     "execution_count": 22,
     "metadata": {},
     "output_type": "execute_result"
    }
   ],
   "source": [
    "promptTemplate.format()"
   ]
  },
  {
   "cell_type": "markdown",
   "id": "28b20060-a5f9-4057-8c8a-dcf71b12008b",
   "metadata": {},
   "source": [
    "<h5>The Prompt to Chat Models is a List of ChatMessages</h5>"
   ]
  },
  {
   "cell_type": "code",
   "execution_count": 23,
   "id": "031e162a-b18b-498f-a179-60c2db32d87c",
   "metadata": {},
   "outputs": [],
   "source": [
    "chatTemplate=ChatPromptTemplate.from_messages(\n",
    "    messages=[\n",
    "                (\"system\",\"You are a helpful AI Bot. Your name is {name}\"),\n",
    "                (\"human\",\"Hello, how are you doing?\"),\n",
    "                (\"ai\",\"I'm doing well, thanks!\"),\n",
    "                (\"human\",\"{userInput}\")\n",
    "    ]\n",
    ")"
   ]
  },
  {
   "cell_type": "code",
   "execution_count": 24,
   "id": "465cac5b-478e-4436-b0be-4eefc48ef66b",
   "metadata": {},
   "outputs": [],
   "source": [
    "messages=chatTemplate.format_messages(name=\"Megan\",userInput=\"What is your name?\")"
   ]
  },
  {
   "cell_type": "code",
   "execution_count": 25,
   "id": "9cca2e37",
   "metadata": {},
   "outputs": [
    {
     "data": {
      "text/plain": [
       "[SystemMessage(content='You are a helpful AI Bot. Your name is Megan', additional_kwargs={}, response_metadata={}),\n",
       " HumanMessage(content='Hello, how are you doing?', additional_kwargs={}, response_metadata={}),\n",
       " AIMessage(content=\"I'm doing well, thanks!\", additional_kwargs={}, response_metadata={}),\n",
       " HumanMessage(content='What is your name?', additional_kwargs={}, response_metadata={})]"
      ]
     },
     "execution_count": 25,
     "metadata": {},
     "output_type": "execute_result"
    }
   ],
   "source": [
    "messages"
   ]
  },
  {
   "cell_type": "code",
   "execution_count": 26,
   "id": "a687eb29-cf11-44cd-a50e-51dddf3d75f8",
   "metadata": {},
   "outputs": [],
   "source": [
    "chain=chatTemplate|llmGemini|StrOutputParser()"
   ]
  },
  {
   "cell_type": "code",
   "execution_count": 27,
   "id": "cc6a593e-21af-49aa-bfbf-6a485d73efc2",
   "metadata": {},
   "outputs": [
    {
     "data": {
      "text/plain": [
       "\"My name is Megan. It's nice to meet you!\""
      ]
     },
     "execution_count": 27,
     "metadata": {},
     "output_type": "execute_result"
    }
   ],
   "source": [
    "chain.invoke(input={'name':\"Megan\",'userInput':\"What is your name?\"})"
   ]
  },
  {
   "cell_type": "code",
   "execution_count": 28,
   "id": "b2a6efdf-1f3a-406d-a64a-f508c1bab3d8",
   "metadata": {},
   "outputs": [],
   "source": [
    "chatTemplate=ChatPromptTemplate.from_messages(\n",
    "    messages=[\n",
    "                SystemMessagePromptTemplate.from_template(template=\"You are a helpful AI Bot. Your name is {name}\"),\n",
    "                HumanMessage(content=\"Hello, how are you doing?\"),\n",
    "                AIMessage(content=\"I'm doing well, thanks!\"),\n",
    "                HumanMessagePromptTemplate.from_template(template=\"{userInput}\")\n",
    "    ]\n",
    ")"
   ]
  },
  {
   "cell_type": "code",
   "execution_count": 30,
   "id": "4920eb96-9d2e-4742-abcf-9eb95c0d5bda",
   "metadata": {},
   "outputs": [],
   "source": [
    "chain=chatTemplate|llmGemini|StrOutputParser()"
   ]
  },
  {
   "cell_type": "code",
   "execution_count": 31,
   "id": "d373b977-93e9-4a4a-9269-639264f557fe",
   "metadata": {},
   "outputs": [
    {
     "data": {
      "text/plain": [
       "\"My name is Megan. It's nice to meet you!\""
      ]
     },
     "execution_count": 31,
     "metadata": {},
     "output_type": "execute_result"
    }
   ],
   "source": [
    "chain.invoke(input={'name':\"Megan\",'userInput':\"What is your name?\"})"
   ]
  },
  {
   "cell_type": "markdown",
   "id": "ab941b98-c8b1-403d-acbe-bf08e24bfc2e",
   "metadata": {},
   "source": [
    "<h3>Messages Placeholder</h3>"
   ]
  },
  {
   "cell_type": "code",
   "execution_count": null,
   "id": "55b0851a-d898-44a7-b7d4-85c6b3797095",
   "metadata": {},
   "outputs": [],
   "source": [
    "chatPrompt=ChatPromptTemplate.from_messages(\n",
    "    messages=[\n",
    "        MessagesPlaceholder(variable_name=\"conversation\"),\n",
    "        HumanMessagePromptTemplate.from_template(\n",
    "            template=\"Summarize our Conversation so far in {wordCount} words\"\n",
    "        )\n",
    "    ]\n",
    ")"
   ]
  },
  {
   "cell_type": "code",
   "execution_count": 33,
   "id": "2c3d4fe7-2780-4bef-8f00-2216e6e1e3ef",
   "metadata": {},
   "outputs": [
    {
     "data": {
      "text/plain": [
       "[HumanMessage(content=\"What's the best way to learn Programming?\", additional_kwargs={}, response_metadata={}),\n",
       " AIMessage(content='1. Choose a programming language: Decide on a programming language that you want to learn.\\n\\n2. Start with the basics: Familiarize yourself with the basic programming concepts such as variables, data types and control structures.\\n\\n3. Practice, practice, practice: The best way to learn programming is through hands-on experience', additional_kwargs={}, response_metadata={}),\n",
       " HumanMessage(content='Summarize our Conversation so far in 25 words', additional_kwargs={}, response_metadata={})]"
      ]
     },
     "execution_count": 33,
     "metadata": {},
     "output_type": "execute_result"
    }
   ],
   "source": [
    "chatPrompt.format_prompt(\n",
    "    conversation=[\n",
    "        HumanMessage(content=\"What's the best way to learn Programming?\"),\n",
    "        AIMessage(content=\"\"\"\\\n",
    "1. Choose a programming language: Decide on a programming language that you want to learn.\n",
    "\n",
    "2. Start with the basics: Familiarize yourself with the basic programming concepts such as variables, data types and control structures.\n",
    "\n",
    "3. Practice, practice, practice: The best way to learn programming is through hands-on experience\\\n",
    "\"\"\")\n",
    "        ],\n",
    "    wordCount=\"25\"\n",
    ").to_messages()"
   ]
  },
  {
   "cell_type": "code",
   "execution_count": null,
   "id": "eccd1dce-95ed-4cb9-a988-8042488bdd41",
   "metadata": {},
   "outputs": [],
   "source": []
  }
 ],
 "metadata": {
  "kernelspec": {
   "display_name": "lcnenv",
   "language": "python",
   "name": "python3"
  },
  "language_info": {
   "codemirror_mode": {
    "name": "ipython",
    "version": 3
   },
   "file_extension": ".py",
   "mimetype": "text/x-python",
   "name": "python",
   "nbconvert_exporter": "python",
   "pygments_lexer": "ipython3",
   "version": "3.11.11"
  }
 },
 "nbformat": 4,
 "nbformat_minor": 5
}
