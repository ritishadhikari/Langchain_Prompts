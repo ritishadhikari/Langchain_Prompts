{
 "cells": [
  {
   "cell_type": "code",
   "execution_count": 1,
   "id": "007eb07b-b010-46aa-a4c7-fdf0423b55bf",
   "metadata": {},
   "outputs": [],
   "source": [
    "from dotenv import load_dotenv,find_dotenv\n",
    "from langchain_core.prompts import PromptTemplate,ChatPromptTemplate\n",
    "from langchain_core.messages import SystemMessage,HumanMessage,AIMessage\n",
    "from langchain_google_genai import ChatGoogleGenerativeAI\n",
    "from langchain_openai import ChatOpenAI\n",
    "from langchain.prompts import SystemMessagePromptTemplate,HumanMessagePromptTemplate\n",
    "\n",
    "from langchain_core.prompts import FewShotChatMessagePromptTemplate\n",
    "from langchain_core.runnables import RunnablePassthrough,RunnableLambda\n",
    "from langchain_core.output_parsers import StrOutputParser\n",
    "from langchain.vectorstores import FAISS\n",
    "from langchain.embeddings import SentenceTransformerEmbeddings,OpenAIEmbeddings\n",
    "from langchain_core.example_selectors import SemanticSimilarityExampleSelector\n",
    "import datetime"
   ]
  },
  {
   "cell_type": "code",
   "execution_count": 2,
   "id": "7ba566f2-e75d-4c56-826e-ea0ff3f2327a",
   "metadata": {},
   "outputs": [
    {
     "data": {
      "text/plain": [
       "True"
      ]
     },
     "execution_count": 2,
     "metadata": {},
     "output_type": "execute_result"
    }
   ],
   "source": [
    "load_dotenv(dotenv_path=find_dotenv(filename=\"../.env\"))"
   ]
  },
  {
   "cell_type": "code",
   "execution_count": 3,
   "id": "f9c1e7a8-f7ad-4cec-9615-fd7671ee522a",
   "metadata": {},
   "outputs": [],
   "source": [
    "llmGemini=ChatGoogleGenerativeAI(model=\"gemini-2.0-flash-001\")\n",
    "llmOpenAI=ChatOpenAI(model=\"gpt-3.5-turbo\")"
   ]
  },
  {
   "cell_type": "markdown",
   "id": "559417b5-fe32-4c74-8e76-3132e9832d62",
   "metadata": {},
   "source": [
    "<h3> Partial With Strings </h3>"
   ]
  },
  {
   "cell_type": "code",
   "execution_count": 4,
   "id": "081e708c-9432-4f61-9045-1574b7ff0960",
   "metadata": {},
   "outputs": [],
   "source": [
    "prompt=PromptTemplate.from_template(template=\"{foo}{bar}\")"
   ]
  },
  {
   "cell_type": "code",
   "execution_count": 5,
   "id": "74048533-7079-431d-b378-f27aaf0d2b68",
   "metadata": {},
   "outputs": [
    {
     "data": {
      "text/plain": [
       "PromptTemplate(input_variables=['bar', 'foo'], input_types={}, partial_variables={}, template='{foo}{bar}')"
      ]
     },
     "execution_count": 5,
     "metadata": {},
     "output_type": "execute_result"
    }
   ],
   "source": [
    "prompt"
   ]
  },
  {
   "cell_type": "code",
   "execution_count": 6,
   "id": "16f24a22-1cd6-4e11-8c4a-0de5efbe4685",
   "metadata": {},
   "outputs": [],
   "source": [
    "partialPrompt=prompt.partial(foo=\"foo\")"
   ]
  },
  {
   "cell_type": "code",
   "execution_count": 7,
   "id": "34b3866a-57db-45e9-a692-8459c160082f",
   "metadata": {},
   "outputs": [
    {
     "data": {
      "text/plain": [
       "PromptTemplate(input_variables=['bar'], input_types={}, partial_variables={'foo': 'foo'}, template='{foo}{bar}')"
      ]
     },
     "execution_count": 7,
     "metadata": {},
     "output_type": "execute_result"
    }
   ],
   "source": [
    "partialPrompt"
   ]
  },
  {
   "cell_type": "code",
   "execution_count": 8,
   "id": "60663ce9-13f0-4799-baef-f0a042430a7c",
   "metadata": {},
   "outputs": [
    {
     "data": {
      "text/plain": [
       "'foobar'"
      ]
     },
     "execution_count": 8,
     "metadata": {},
     "output_type": "execute_result"
    }
   ],
   "source": [
    "partialPrompt.format(bar='bar')"
   ]
  },
  {
   "cell_type": "code",
   "execution_count": 9,
   "id": "27330391-dc20-4828-b814-9087d4aa3afd",
   "metadata": {},
   "outputs": [],
   "source": [
    "chain=RunnablePassthrough()|partialPrompt|llmGemini|StrOutputParser()"
   ]
  },
  {
   "cell_type": "code",
   "execution_count": 10,
   "id": "34256ad1-c71b-4a9c-9315-948e2765a9c6",
   "metadata": {},
   "outputs": [
    {
     "data": {
      "text/plain": [
       "'You got it! \"Foobar\" is a classic placeholder name, often used in programming examples or documentation when a name is needed but the actual name doesn\\'t matter.\\n\\nIs there anything else I can help you with regarding \"foobar\" or anything else related to programming or general knowledge?'"
      ]
     },
     "execution_count": 10,
     "metadata": {},
     "output_type": "execute_result"
    }
   ],
   "source": [
    "chain.invoke(input={'bar':\"bar\"})"
   ]
  },
  {
   "cell_type": "code",
   "execution_count": 12,
   "id": "7fec8359-121a-4739-82e3-ab102e04d527",
   "metadata": {},
   "outputs": [],
   "source": [
    "# Initialize the partial with partial variables"
   ]
  },
  {
   "cell_type": "code",
   "execution_count": 11,
   "id": "61699223-c4c5-4788-9f0d-caaa1c4e1916",
   "metadata": {},
   "outputs": [],
   "source": [
    "prompt=PromptTemplate(template=\"{foo}{bar}\",input_variables=['bar'],partial_variables={\"foo\":\"foo\"})"
   ]
  },
  {
   "cell_type": "code",
   "execution_count": 12,
   "id": "664b4598-4e11-4714-a89d-e2d4ffe4424e",
   "metadata": {},
   "outputs": [
    {
     "data": {
      "text/plain": [
       "PromptTemplate(input_variables=['bar'], input_types={}, partial_variables={'foo': 'foo'}, template='{foo}{bar}')"
      ]
     },
     "execution_count": 12,
     "metadata": {},
     "output_type": "execute_result"
    }
   ],
   "source": [
    "prompt"
   ]
  },
  {
   "cell_type": "code",
   "execution_count": 38,
   "id": "4c630675-9a9b-47a6-a460-6a3f85009599",
   "metadata": {},
   "outputs": [],
   "source": [
    "chain=RunnablePassthrough()|prompt|llmGemini|StrOutputParser()"
   ]
  },
  {
   "cell_type": "code",
   "execution_count": 39,
   "id": "5698459b-8b9c-495f-a3ab-54252fadf6ed",
   "metadata": {},
   "outputs": [
    {
     "data": {
      "text/plain": [
       "'\"Foobar\" is a placeholder word often used in programming, testing, and other technical contexts. It has no specific meaning and is typically used to represent:\\n\\n* **Dummy data:**  A placeholder for real data that will be used later.\\n* **Testing:**  A placeholder for a function or value during testing.\\n* **Example code:** A generic term for code that demonstrates a concept or functionality.\\n\\nIt\\'s like a \"lorem ipsum\" for code! \\n'"
      ]
     },
     "execution_count": 39,
     "metadata": {},
     "output_type": "execute_result"
    }
   ],
   "source": [
    "chain.invoke(input={'bar':\"bar\"})"
   ]
  },
  {
   "cell_type": "markdown",
   "id": "b28e59c3-ad38-4744-9e5c-1092415977e0",
   "metadata": {},
   "source": [
    "<h3>Partial With Functions</h3>"
   ]
  },
  {
   "cell_type": "code",
   "execution_count": 13,
   "id": "f1fec819-1d77-4640-bd64-e64a28142df9",
   "metadata": {},
   "outputs": [],
   "source": [
    "def _getDateTime():\n",
    "    now=datetime.datetime.now()\n",
    "    return now.strftime(\"%m/%d/%Y %H:%M:%S\")"
   ]
  },
  {
   "cell_type": "code",
   "execution_count": 14,
   "id": "f7f25f1b",
   "metadata": {},
   "outputs": [
    {
     "data": {
      "text/plain": [
       "'05/21/2025 00:45:11'"
      ]
     },
     "execution_count": 14,
     "metadata": {},
     "output_type": "execute_result"
    }
   ],
   "source": [
    "_getDateTime()"
   ]
  },
  {
   "cell_type": "code",
   "execution_count": 15,
   "id": "b00cc35b-710a-4b27-83b2-a84772064f3d",
   "metadata": {},
   "outputs": [],
   "source": [
    "prompt=PromptTemplate(\n",
    "    template=\"Tell me an {adjective} joke for the day {date}\",\n",
    "    input_variables=['adjective','date']\n",
    ")"
   ]
  },
  {
   "cell_type": "code",
   "execution_count": 16,
   "id": "a1d835ab-524b-4ced-a732-03b4a90eb19d",
   "metadata": {},
   "outputs": [
    {
     "data": {
      "text/plain": [
       "PromptTemplate(input_variables=['adjective', 'date'], input_types={}, partial_variables={}, template='Tell me an {adjective} joke for the day {date}')"
      ]
     },
     "execution_count": 16,
     "metadata": {},
     "output_type": "execute_result"
    }
   ],
   "source": [
    "prompt"
   ]
  },
  {
   "cell_type": "code",
   "execution_count": 17,
   "id": "11361259-6898-4398-90d2-82cb2481fb4b",
   "metadata": {},
   "outputs": [],
   "source": [
    "partialPrompt=prompt.partial(date=_getDateTime)"
   ]
  },
  {
   "cell_type": "code",
   "execution_count": 18,
   "id": "df6527f8-66cc-4753-9ec7-35c3e9eb90cd",
   "metadata": {},
   "outputs": [
    {
     "data": {
      "text/plain": [
       "PromptTemplate(input_variables=['adjective'], input_types={}, partial_variables={'date': <function _getDateTime at 0x000002BC5A201EE0>}, template='Tell me an {adjective} joke for the day {date}')"
      ]
     },
     "execution_count": 18,
     "metadata": {},
     "output_type": "execute_result"
    }
   ],
   "source": [
    "partialPrompt"
   ]
  },
  {
   "cell_type": "code",
   "execution_count": 19,
   "id": "ced66c42-0942-4c4f-afdc-31627ab6c636",
   "metadata": {},
   "outputs": [
    {
     "data": {
      "text/plain": [
       "'Tell me an funny joke for the day 05/21/2025 00:46:46'"
      ]
     },
     "execution_count": 19,
     "metadata": {},
     "output_type": "execute_result"
    }
   ],
   "source": [
    "partialPrompt.format(adjective=\"funny\")"
   ]
  },
  {
   "cell_type": "code",
   "execution_count": 20,
   "id": "185ac68d-7feb-46f5-a729-599de42e3a0c",
   "metadata": {},
   "outputs": [],
   "source": [
    "chain=RunnablePassthrough()|partialPrompt|llmGemini|StrOutputParser()"
   ]
  },
  {
   "cell_type": "code",
   "execution_count": 21,
   "id": "249c2c00-0d3d-4544-8c67-2dfe145bf01f",
   "metadata": {},
   "outputs": [
    {
     "data": {
      "text/plain": [
       "\"Okay, here's a joke for you, set to be funny on May 21st, 2025 at 12:47:02 AM:\\n\\nWhy did the AI cross the road on May 21st, 2025?\\n\\n... Because it finally understood the CAPTCHA! And, also, to tell you that by this point in the future, knock-knock jokes are considered *ancient* history. Get with the times, human!\""
      ]
     },
     "execution_count": 21,
     "metadata": {},
     "output_type": "execute_result"
    }
   ],
   "source": [
    "chain.invoke(input={'adjective':\"funny\"})"
   ]
  },
  {
   "cell_type": "code",
   "execution_count": 55,
   "id": "930c8829-fea8-400a-8faa-e84e317195af",
   "metadata": {},
   "outputs": [],
   "source": [
    "# Initialize the Prompt with Partialized Variable"
   ]
  },
  {
   "cell_type": "code",
   "execution_count": 56,
   "id": "977f1d66-96c9-4782-84d0-eba5463b719c",
   "metadata": {},
   "outputs": [],
   "source": [
    "prompt=PromptTemplate(\n",
    "    template=\"Tell me an {adjective} joke for the day {date}\",\n",
    "    input_variables=['adjective'],\n",
    "    partial_variables={'date':_getDateTime}\n",
    ")"
   ]
  },
  {
   "cell_type": "code",
   "execution_count": 57,
   "id": "f04790e3-b86f-4f95-9ddc-00182cbc1b97",
   "metadata": {},
   "outputs": [
    {
     "data": {
      "text/plain": [
       "PromptTemplate(input_variables=['adjective'], input_types={}, partial_variables={'date': <function _getDateTime at 0x00000237C6619F80>}, template='Tell me an {adjective} joke for the day {date}')"
      ]
     },
     "execution_count": 57,
     "metadata": {},
     "output_type": "execute_result"
    }
   ],
   "source": [
    "prompt"
   ]
  },
  {
   "cell_type": "code",
   "execution_count": 58,
   "id": "cc60c276-5fc2-4ef7-b45c-68cbe0f0d7a1",
   "metadata": {},
   "outputs": [
    {
     "data": {
      "text/plain": [
       "'Tell me an horror joke for the day 10/19/2024 21:21:38'"
      ]
     },
     "execution_count": 58,
     "metadata": {},
     "output_type": "execute_result"
    }
   ],
   "source": [
    "prompt.format(adjective=\"horror\")"
   ]
  },
  {
   "cell_type": "code",
   "execution_count": 59,
   "id": "0ed8e56f-a809-4775-a8d9-096bf6165638",
   "metadata": {},
   "outputs": [],
   "source": [
    "chain=RunnablePassthrough()|prompt|llmGemini|StrOutputParser()"
   ]
  },
  {
   "cell_type": "code",
   "execution_count": 60,
   "id": "5115c372-aa11-4eaa-8200-1506c5de1955",
   "metadata": {},
   "outputs": [
    {
     "data": {
      "text/plain": [
       "\"I can't tell you a joke specific to the date and time you provided.  I don't have access to real-time information like that. \\n\\nHowever, I can tell you a funny joke:\\n\\nWhy don't scientists trust atoms? \\n\\nBecause they make up everything! \\n\\nLet me know if you'd like to hear another joke! 😊 \\n\""
      ]
     },
     "execution_count": 60,
     "metadata": {},
     "output_type": "execute_result"
    }
   ],
   "source": [
    "chain.invoke(input={'adjective':\"funny\"})"
   ]
  },
  {
   "cell_type": "code",
   "execution_count": null,
   "id": "8568e1c4-8b75-454e-a906-851b504e7652",
   "metadata": {},
   "outputs": [],
   "source": []
  }
 ],
 "metadata": {
  "kernelspec": {
   "display_name": "lcnenv",
   "language": "python",
   "name": "python3"
  },
  "language_info": {
   "codemirror_mode": {
    "name": "ipython",
    "version": 3
   },
   "file_extension": ".py",
   "mimetype": "text/x-python",
   "name": "python",
   "nbconvert_exporter": "python",
   "pygments_lexer": "ipython3",
   "version": "3.11.11"
  }
 },
 "nbformat": 4,
 "nbformat_minor": 5
}
