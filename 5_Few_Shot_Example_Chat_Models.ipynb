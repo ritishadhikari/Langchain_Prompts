{
 "cells": [
  {
   "cell_type": "code",
   "execution_count": 40,
   "id": "8e59e6cc-994f-4772-9c37-6ee688d4677a",
   "metadata": {},
   "outputs": [],
   "source": [
    "from dotenv import load_dotenv,find_dotenv\n",
    "from langchain_core.prompts import PromptTemplate,ChatPromptTemplate\n",
    "from langchain_core.messages import SystemMessage,HumanMessage,AIMessage\n",
    "from langchain_google_genai import ChatGoogleGenerativeAI\n",
    "from langchain_openai import ChatOpenAI\n",
    "from langchain.prompts import SystemMessagePromptTemplate,HumanMessagePromptTemplate\n",
    "\n",
    "from langchain_core.prompts import FewShotChatMessagePromptTemplate\n",
    "from langchain_core.runnables import RunnablePassthrough,RunnableLambda\n",
    "from langchain_core.output_parsers import StrOutputParser\n",
    "from langchain.vectorstores import FAISS\n",
    "from langchain.embeddings import SentenceTransformerEmbeddings,OpenAIEmbeddings\n",
    "from langchain_core.example_selectors import SemanticSimilarityExampleSelector"
   ]
  },
  {
   "cell_type": "code",
   "execution_count": 3,
   "id": "979493ae-df02-4c9a-82cf-b76cf1fdcbd5",
   "metadata": {},
   "outputs": [
    {
     "data": {
      "text/plain": [
       "True"
      ]
     },
     "execution_count": 3,
     "metadata": {},
     "output_type": "execute_result"
    }
   ],
   "source": [
    "load_dotenv(dotenv_path=find_dotenv(filename=\"D:\\LLM Courses\\Master Langchain Udemy\\.env\"))"
   ]
  },
  {
   "cell_type": "code",
   "execution_count": 4,
   "id": "c7490ae8-269f-488c-be7d-e9082addfcba",
   "metadata": {},
   "outputs": [],
   "source": [
    "llmGemini=ChatGoogleGenerativeAI(model=\"gemini-1.5-flash\")\n",
    "llmOpenAI=ChatOpenAI(model=\"gpt-3.5-turbo\")"
   ]
  },
  {
   "cell_type": "code",
   "execution_count": 7,
   "id": "a84573c2-a05a-4a31-9217-5e5f6a291126",
   "metadata": {},
   "outputs": [],
   "source": [
    "examples=[\n",
    "    {\"input\":\"2+2\",\"output\":\"4\"},\n",
    "    {\"input\":\"2+3\",\"output\":\"5\"}\n",
    "    ]"
   ]
  },
  {
   "cell_type": "code",
   "execution_count": 13,
   "id": "a6625e0a-117e-4702-8714-a4bc24f1e969",
   "metadata": {},
   "outputs": [],
   "source": [
    "examplePrompts=ChatPromptTemplate.from_messages(\n",
    "messages=[\n",
    "    (\"human\",\"{input}\"),\n",
    "    (\"ai\",\"{output}\")\n",
    "    ]\n",
    ")"
   ]
  },
  {
   "cell_type": "code",
   "execution_count": 14,
   "id": "8f020ea6-f4da-4768-baa2-9ead42e691ea",
   "metadata": {},
   "outputs": [],
   "source": [
    "fewShotPrompt=FewShotChatMessagePromptTemplate(\n",
    "    examples=examples,\n",
    "    example_prompt=examplePrompts\n",
    ")"
   ]
  },
  {
   "cell_type": "code",
   "execution_count": 17,
   "id": "b7bb9537-465a-480b-b347-4eb078a53d0d",
   "metadata": {},
   "outputs": [
    {
     "name": "stdout",
     "output_type": "stream",
     "text": [
      "Human: 2+2\n",
      "AI: 4\n",
      "Human: 2+3\n",
      "AI: 5\n"
     ]
    }
   ],
   "source": [
    "print(fewShotPrompt.format())"
   ]
  },
  {
   "cell_type": "code",
   "execution_count": 18,
   "id": "c16b7472-6828-464a-97c0-18ccb545ee2f",
   "metadata": {},
   "outputs": [],
   "source": [
    "finalPrompt=ChatPromptTemplate.from_messages(\n",
    "    [\n",
    "        (\"system\",\"You are a Wondrous Wizard of Maths\"),\n",
    "        fewShotPrompt,\n",
    "        (\"human\",\"{input}\")\n",
    "    ]\n",
    ")"
   ]
  },
  {
   "cell_type": "code",
   "execution_count": 29,
   "id": "b453f5af-a215-4cad-a626-faf5e5ab4e14",
   "metadata": {},
   "outputs": [],
   "source": [
    "chain=RunnablePassthrough()|finalPrompt|llmGemini|StrOutputParser()|RunnableLambda(lambda s:s.strip())"
   ]
  },
  {
   "cell_type": "code",
   "execution_count": 31,
   "id": "44b1fcc6-60e2-4465-9520-c7311e4acfb5",
   "metadata": {},
   "outputs": [
    {
     "data": {
      "text/plain": [
       "'402'"
      ]
     },
     "execution_count": 31,
     "metadata": {},
     "output_type": "execute_result"
    }
   ],
   "source": [
    "chain.invoke(input={\"input\":\"6*67\"})"
   ]
  },
  {
   "cell_type": "markdown",
   "id": "58b17945-cabb-4f2f-87b8-d8c256b05120",
   "metadata": {},
   "source": [
    "<h3>Using Example Selectors</h3>"
   ]
  },
  {
   "cell_type": "code",
   "execution_count": 36,
   "id": "d8e02276-fa4d-4719-913e-8c669471d463",
   "metadata": {},
   "outputs": [],
   "source": [
    "examples=[\n",
    "    {\"input\":\"2+2\",\"output\":\"4\"},\n",
    "    {\"input\": \"2+3\", \"output\": \"5\"},\n",
    "    {\"input\": \"2+4\", \"output\": \"6\"},\n",
    "    {\"input\": \"What did the cow say to the moon?\", \"output\": \"nothing at all\"},\n",
    "    {\"input\": \"Write me a poem about the moon\", \"output\": \"One for the moon, and one for me, who are we to talk about the moon?\"},\n",
    "]"
   ]
  },
  {
   "cell_type": "code",
   "execution_count": 37,
   "id": "28eca3ff-1f5b-4b32-9508-49b2032e4be6",
   "metadata": {},
   "outputs": [],
   "source": [
    "examplePrompt=ChatPromptTemplate.from_messages(\n",
    "    messages= [\n",
    "        (\"human\",\"{input}\"),\n",
    "        (\"ai\",\"{output}\")\n",
    "    ]\n",
    ")"
   ]
  },
  {
   "cell_type": "code",
   "execution_count": 55,
   "id": "99c675b0-faac-43c2-a593-fc9b44089d1e",
   "metadata": {},
   "outputs": [
    {
     "name": "stderr",
     "output_type": "stream",
     "text": [
      "C:\\Users\\MSI 1\\AppData\\Local\\Temp\\ipykernel_10904\\2595075800.py:5: LangChainDeprecationWarning: Default values for HuggingFaceEmbeddings.model_name were deprecated in LangChain 0.2.16 and will be removed in 0.4.0. Explicitly pass a model_name to the HuggingFaceEmbeddings constructor instead.\n",
      "  embeddings=SentenceTransformerEmbeddings()\n"
     ]
    }
   ],
   "source": [
    "exampleSelector=SemanticSimilarityExampleSelector.from_examples(\n",
    "    vectorstore_cls=FAISS,\n",
    "    examples=examples,\n",
    "    k=2,\n",
    "    embeddings=SentenceTransformerEmbeddings()\n",
    ")"
   ]
  },
  {
   "cell_type": "code",
   "execution_count": 67,
   "id": "44875873-a2ab-469a-8296-9314723a7850",
   "metadata": {},
   "outputs": [],
   "source": [
    "fewShotPrompt=FewShotChatMessagePromptTemplate(\n",
    "    example_selector=exampleSelector,\n",
    "    example_prompt=examplePrompt,\n",
    "    input_variables=[\"enter\"]  # Human Input not the input from the example prompt\n",
    ")"
   ]
  },
  {
   "cell_type": "code",
   "execution_count": 63,
   "id": "b3aec9c5-9c77-499d-a1d7-2151fca823f6",
   "metadata": {},
   "outputs": [],
   "source": [
    "finalPrompt=ChatPromptTemplate.from_messages(messages=[\n",
    "    (\"human\",\"You are a Maths Wizard and also a Poet\"),\n",
    "    fewShotPrompt,\n",
    "    (\"human\",\"{enter}\")\n",
    "])"
   ]
  },
  {
   "cell_type": "code",
   "execution_count": 64,
   "id": "7d99d106-8229-4a1d-bc30-77ce8901d0c9",
   "metadata": {},
   "outputs": [
    {
     "data": {
      "text/plain": [
       "ChatPromptValue(messages=[HumanMessage(content='You are a Maths Wizard and also a Poet', additional_kwargs={}, response_metadata={}), HumanMessage(content='2+4', additional_kwargs={}, response_metadata={}), AIMessage(content='6', additional_kwargs={}, response_metadata={}), HumanMessage(content='2+3', additional_kwargs={}, response_metadata={}), AIMessage(content='5', additional_kwargs={}, response_metadata={}), HumanMessage(content='6*67', additional_kwargs={}, response_metadata={})])"
      ]
     },
     "execution_count": 64,
     "metadata": {},
     "output_type": "execute_result"
    }
   ],
   "source": [
    "finalPrompt.invoke(input={\"enter\":\"6*67\"})"
   ]
  },
  {
   "cell_type": "code",
   "execution_count": 65,
   "id": "65bda38c-99d1-470e-b199-f6c4645095f0",
   "metadata": {},
   "outputs": [],
   "source": [
    "chain=RunnablePassthrough()|finalPrompt|llmGemini|StrOutputParser()|RunnableLambda(lambda s:s.strip())"
   ]
  },
  {
   "cell_type": "code",
   "execution_count": 66,
   "id": "60851eb9-ca83-48fb-88d4-9483e643dd3a",
   "metadata": {},
   "outputs": [
    {
     "data": {
      "text/plain": [
       "'402'"
      ]
     },
     "execution_count": 66,
     "metadata": {},
     "output_type": "execute_result"
    }
   ],
   "source": [
    "chain.invoke(input={\"enter\":\"6*67\"})"
   ]
  },
  {
   "cell_type": "code",
   "execution_count": null,
   "id": "aa9764c9-a4cb-4ed6-9f5c-3bced002f12e",
   "metadata": {},
   "outputs": [],
   "source": []
  }
 ],
 "metadata": {
  "kernelspec": {
   "display_name": "Python 3 (ipykernel)",
   "language": "python",
   "name": "python3"
  },
  "language_info": {
   "codemirror_mode": {
    "name": "ipython",
    "version": 3
   },
   "file_extension": ".py",
   "mimetype": "text/x-python",
   "name": "python",
   "nbconvert_exporter": "python",
   "pygments_lexer": "ipython3",
   "version": "3.11.9"
  }
 },
 "nbformat": 4,
 "nbformat_minor": 5
}
