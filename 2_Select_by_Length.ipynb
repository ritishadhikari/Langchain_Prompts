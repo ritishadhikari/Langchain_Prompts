{
 "cells": [
  {
   "cell_type": "code",
   "execution_count": 18,
   "id": "5ccfcbb7-f3ea-4893-b3f1-b3f9d5456693",
   "metadata": {},
   "outputs": [],
   "source": [
    "from dotenv import load_dotenv,find_dotenv\n",
    "from langchain_core.prompts import PromptTemplate,ChatPromptTemplate\n",
    "from langchain_core.messages import SystemMessage,HumanMessage,AIMessage\n",
    "from langchain_google_genai import ChatGoogleGenerativeAI\n",
    "from langchain_openai import ChatOpenAI\n",
    "from langchain.prompts import SystemMessagePromptTemplate,HumanMessagePromptTemplate\n",
    "\n",
    "from langchain_core.example_selectors import LengthBasedExampleSelector\n",
    "from langchain.prompts import PromptTemplate,FewShotPromptTemplate\n",
    "from langchain_core.runnables import RunnablePassthrough\n",
    "from langchain_core.output_parsers import StrOutputParser"
   ]
  },
  {
   "cell_type": "code",
   "execution_count": 2,
   "id": "2cd8644f-c2a2-4b41-a006-2ccdee526dfd",
   "metadata": {},
   "outputs": [
    {
     "data": {
      "text/plain": [
       "True"
      ]
     },
     "execution_count": 2,
     "metadata": {},
     "output_type": "execute_result"
    }
   ],
   "source": [
    "load_dotenv(dotenv_path=find_dotenv(filename=\"../.env\"))"
   ]
  },
  {
   "cell_type": "code",
   "execution_count": 3,
   "id": "7fe03be8-74c8-4a46-9eee-0879cd86065c",
   "metadata": {},
   "outputs": [],
   "source": [
    "llmGemini=ChatGoogleGenerativeAI(model=\"gemini-2.0-flash-001\")\n",
    "llmOpenAI=ChatOpenAI(model=\"gpt-3.5-turbo\")"
   ]
  },
  {
   "cell_type": "code",
   "execution_count": 4,
   "id": "1d277df1-58a5-409b-b11d-e5055c8aaf69",
   "metadata": {},
   "outputs": [],
   "source": [
    "examples=[\n",
    "    {\"input\":\"happy\",\"output\":\"sad\"},\n",
    "    {\"input\":\"tall\",\"output\":\"short\"},\n",
    "    {\"input\": \"energetic\", \"output\": \"lethargic\"},\n",
    "    {\"input\": \"sunny\", \"output\": \"gloomy\"},\n",
    "    {\"input\": \"windy\", \"output\": \"calm\"},\n",
    "]"
   ]
  },
  {
   "cell_type": "code",
   "execution_count": 5,
   "id": "5ea9432c-9a34-4ce6-aa9d-0fd91472f734",
   "metadata": {},
   "outputs": [],
   "source": [
    "examplePrompt=PromptTemplate(\n",
    "    input_variables=[\"input\",\"output\"],\n",
    "    # The input and output are the input and output in the examples which gets mapped to the value of the input\n",
    "    # So the format will be: \"Input: sunny\\n Output: gloomy\n",
    "    template=\"Input: {input}\\n Output:{output}\",\n",
    "    )"
   ]
  },
  {
   "cell_type": "code",
   "execution_count": 6,
   "id": "265d2aa3-8b5d-4e68-b055-ce414396e68d",
   "metadata": {},
   "outputs": [],
   "source": [
    "exampleSelector=LengthBasedExampleSelector(\n",
    "    examples=examples,\n",
    "    example_prompt=examplePrompt,\n",
    "    max_length=15\n",
    ")"
   ]
  },
  {
   "cell_type": "code",
   "execution_count": 8,
   "id": "d562c4f5-d4df-439b-b3e9-f191baf29b54",
   "metadata": {},
   "outputs": [
    {
     "name": "stdout",
     "output_type": "stream",
     "text": [
      "examples=[{'input': 'happy', 'output': 'sad'}, {'input': 'tall', 'output': 'short'}, {'input': 'energetic', 'output': 'lethargic'}, {'input': 'sunny', 'output': 'gloomy'}, {'input': 'windy', 'output': 'calm'}] example_prompt=PromptTemplate(input_variables=['input', 'output'], input_types={}, partial_variables={}, template='Input: {input}\\n Output:{output}') get_text_length=<function _get_length_based at 0x000002297C748180> max_length=15 example_text_lengths=[4, 4, 4, 4, 4]\n"
     ]
    }
   ],
   "source": [
    "print(exampleSelector)"
   ]
  },
  {
   "cell_type": "code",
   "execution_count": 9,
   "id": "1bb26538-9613-49a7-a374-ee0aef4c0a20",
   "metadata": {},
   "outputs": [],
   "source": [
    "dynamicPrompt=FewShotPromptTemplate(\n",
    "    prefix=\"Give the Antonym of every Input\",\n",
    "    example_selector=exampleSelector,\n",
    "    example_prompt=examplePrompt,\n",
    "    suffix=\"Input Adjective: {adjective}\\nAntonym: \",\n",
    "    input_variables=[\"adjective\"]\n",
    ")\n"
   ]
  },
  {
   "cell_type": "code",
   "execution_count": 10,
   "id": "dd7cfc13-66a3-4e00-b412-9d40a21abb4a",
   "metadata": {},
   "outputs": [
    {
     "name": "stdout",
     "output_type": "stream",
     "text": [
      "Give the Antonym of every Input\n",
      "\n",
      "Input: happy\n",
      " Output:sad\n",
      "\n",
      "Input: tall\n",
      " Output:short\n",
      "\n",
      "Input: energetic\n",
      " Output:lethargic\n",
      "\n",
      "Input Adjective: Untidy\n",
      "Antonym: \n"
     ]
    }
   ],
   "source": [
    "print(dynamicPrompt.format(adjective=\"Untidy\"))"
   ]
  },
  {
   "cell_type": "code",
   "execution_count": 15,
   "id": "b23edca3-5c73-430c-aba6-255adb86c923",
   "metadata": {},
   "outputs": [],
   "source": [
    "chain=RunnablePassthrough()|dynamicPrompt|llmGemini|StrOutputParser()"
   ]
  },
  {
   "cell_type": "code",
   "execution_count": 16,
   "id": "c91e4114-8d77-4795-99b1-97a0cf361eed",
   "metadata": {},
   "outputs": [
    {
     "name": "stdout",
     "output_type": "stream",
     "text": [
      "Input Adjective: Untidy\n",
      "Antonym: Tidy\n"
     ]
    }
   ],
   "source": [
    "print(chain.invoke(input={\"adjective\":\"Untidy\"}))"
   ]
  },
  {
   "cell_type": "code",
   "execution_count": 17,
   "id": "5ef7b2e6-32aa-4e5d-88c5-21dc02e2de2e",
   "metadata": {},
   "outputs": [],
   "source": [
    "# examples -> examples_prompts -> example_selector -> few_shot_prompt_template"
   ]
  },
  {
   "cell_type": "code",
   "execution_count": null,
   "id": "b1d372c2-14f6-491b-b61a-fb297039d97e",
   "metadata": {},
   "outputs": [],
   "source": []
  }
 ],
 "metadata": {
  "kernelspec": {
   "display_name": "lcnenv",
   "language": "python",
   "name": "python3"
  },
  "language_info": {
   "codemirror_mode": {
    "name": "ipython",
    "version": 3
   },
   "file_extension": ".py",
   "mimetype": "text/x-python",
   "name": "python",
   "nbconvert_exporter": "python",
   "pygments_lexer": "ipython3",
   "version": "3.11.11"
  }
 },
 "nbformat": 4,
 "nbformat_minor": 5
}
